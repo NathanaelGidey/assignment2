{
 "cells": [
  {
   "cell_type": "code",
   "execution_count": null,
   "id": "5556acc7",
   "metadata": {
    "lines_to_next_cell": 0
   },
   "outputs": [],
   "source": []
  },
  {
   "cell_type": "code",
   "execution_count": null,
   "id": "e65158d3",
   "metadata": {},
   "outputs": [],
   "source": [
    "dataset_list = [{'url': \"https://raw.githubusercontent.com/rfordatascience/tidytuesday/master/data/2018/2018-06-12/week11_fifa_audience.csv\" , # a dataset with nonnumerical data in at least one column\n",
    "     'name': \"Fifa Attendance\",\n",
    "     'load_func': \"read_csv\" },\n",
    "     {'url': \"https://raw.githubusercontent.com/rfordatascience/tidytuesday/master/data/2019/2019-04-30/bird_call.csv\", #any dataset you're interested in\n",
    "     'name': \"Species\",\n",
    "     'load_func': \"read_csv\"},\n",
    "     {'url': \"https://www.govtrack.us/api/v2/role?current=true&role_type=senator\", #any dataset you're interested in\n",
    "     'name': \"Music\",\n",
    "     'load_func': \"read_tsv\"}]"
   ]
  }
 ],
 "metadata": {
  "jupytext": {
   "cell_metadata_filter": "-all",
   "notebook_metadata_filter": "-all",
   "text_representation": {
    "extension": ".py",
    "format_name": "light"
   }
  },
  "kernelspec": {
   "display_name": "Python 3",
   "language": "python",
   "name": "python3"
  }
 },
 "nbformat": 4,
 "nbformat_minor": 5
}
